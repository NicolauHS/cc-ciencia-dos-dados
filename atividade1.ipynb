{
 "cells": [
  {
   "cell_type": "markdown",
   "metadata": {},
   "source": [
    "## Atividade 1\n",
    "\n",
    "**Situação Problema:**\n",
    "Você está participando da seleção para trabalhar em duas empresas, ambas empresas têm\n",
    "até o momento 8 funcionários e os salários desses funcionários estão apresentados no\n",
    "quadro a seguir:\n",
    "\n",
    "| Empresa A | Empresa B |\n",
    "|-----------|-----------|\n",
    "| 3000 | 1300 |\n",
    "| 2500 | 1400 |\n",
    "| 2800 | 1300 |\n",
    "| 3500 | 1500 |\n",
    "| 3200 | 1450 |\n",
    "| 2500 | 1350 |\n",
    "| 3000 | 3000 |\n",
    "| 2700 | 11900 |"
   ]
  },
  {
   "cell_type": "code",
   "execution_count": 15,
   "metadata": {},
   "outputs": [],
   "source": [
    "import pandas as pd\n",
    "import numpy as np\n",
    "import matplotlib.pyplot as plt\n",
    "import seaborn as sns"
   ]
  },
  {
   "cell_type": "code",
   "execution_count": 16,
   "metadata": {},
   "outputs": [
    {
     "name": "stdout",
     "output_type": "stream",
     "text": [
      "Média da empresa A: 2900.0\n",
      "Mediana da empresa A: 2900.0\n",
      "Moda da empresa A: [2500]\n",
      "Média da empresa B: 2900.0\n",
      "Mediana da empresa B: 1425.0\n",
      "Moda da empresa B: [1300]\n"
     ]
    }
   ],
   "source": [
    "a = np.array([3000, 2500, 2800, 3500, 3200, 2500, 3000, 2700])\n",
    "\n",
    "b = np.array([1300, 1400, 1300, 1500, 1450, 1350, 3000, 11900])\n",
    "\n",
    "dfa = pd.DataFrame(a);\n",
    "dfb = pd.DataFrame(b);\n",
    "\n",
    "print(\"Média da empresa A: \" + str(dfa.mean().values[0]))\n",
    "print(\"Mediana da empresa A: \" + str(dfa.median().values[0]))\n",
    "print(\"Moda da empresa A: \" + str(dfa.mode().values[0]))\n",
    "print(\"Média da empresa B: \" + str(dfb.mean().values[0]))\n",
    "print(\"Mediana da empresa B: \" + str(dfb.median().values[0]))\n",
    "print(\"Moda da empresa B: \" + str(dfb.mode().values[0]))\n"
   ]
  },
  {
   "cell_type": "markdown",
   "metadata": {},
   "source": [
    "### Perguntas\n",
    "---\n",
    "1 - Qual é o salário médio da empresa A? \n",
    "\n",
    "2900\n",
    "\n",
    "\n",
    "2 - Qual é o salário médio da empresa B? \n",
    "\n",
    "2900\n",
    "\n",
    "\n",
    "3 - Considerando a questão salário, qual empresa você escolhe para trabalhar? Porque? \n",
    "\n",
    "A empresa A, pois embora a média do salário das duas é igual, a mediana e a moda da empresa B é muito menor\n",
    "\n",
    "\n",
    "4 - A média é representativa em ambas as empresas? \n",
    "\n",
    "Na empresa A, sim, na empresa B, não\n",
    "\n",
    "\n",
    "5 - Nessa situação, a média é suficiente para tomarmos uma decisão? Porque? \n",
    "\n",
    "Não. Pois somente a média não pode nos garantir dados confiáveis por si só. \n",
    "\n",
    "\n",
    "6 - É importante trabalharmos com medidas que representem a concentração ou variabilidade dos dados em relação a média? \n",
    "\n",
    "Sim, pois eles podem nos entregar uma análise mais completa.\n"
   ]
  },
  {
   "cell_type": "markdown",
   "metadata": {},
   "source": [
    "## Atividade 2\n",
    "\n",
    "**Situação Problema:** no quadro seguinte é apresentado a nota com peso 100 de 80 alunos\n",
    "da disciplina de Ciência dos Dados.\n",
    "\n",
    "\n",
    "| 25  | 32 | 89 | 91 | 95 | 60 | 30 | 15 | 45 | 70 |\n",
    "|-----|----|----|----|----|----|----|----|----|----|\n",
    "| 98  | 87 | 87 | 96 | 34 | 83 | 77 | 90 | 67 | 61 |\n",
    "| 33  | 18 | 99 | 32 | 78 | 85 | 51 | 35 | 89 | 88 |\n",
    "| 92  | 22 | 18 | 70 | 76 | 90 | 87 | 88 | 100| 34 |\n",
    "| 37  | 76 | 100| 92 | 31 | 88 | 70 | 88 | 90 | 97 |\n",
    "| 87  | 12 | 56 | 95 | 56 | 92 | 70 | 96 | 86 | 75 |\n",
    "| 45  | 89 | 87 | 40 | 89 | 39 | 95 | 25 | 70 | 27 |\n",
    "| 94  | 94 | 0  | 78 | 74 | 69 | 94 | 18 | 80 | 86 |\n"
   ]
  },
  {
   "cell_type": "code",
   "execution_count": 20,
   "metadata": {},
   "outputs": [
    {
     "data": {
      "image/png": "[encoded data removed]",
      "text/plain": [
       "<Figure size 640x480 with 1 Axes>"
      ]
     },
     "metadata": {},
     "output_type": "display_data"
    },
    {
     "name": "stdout",
     "output_type": "stream",
     "text": [
      "Média ponderada das notas dos alunos: 64.4872\n"
     ]
    }
   ],
   "source": [
    "scores = [25, 32, 89, 91, 95, 60, 30, 15, 45, 70,\n",
    "          98, 87, 87, 96, 34, 83, 77, 90, 67, 61,\n",
    "          33, 18, 99, 32, 78, 85, 51, 35, 89, 88,\n",
    "          92, 22, 18, 70, 76, 90, 87, 88, 100, 34,\n",
    "          37, 76, 100, 92, 31, 88, 70, 88, 90, 97,\n",
    "          87, 12, 56, 95, 56, 92, 70, 96, 86, 75,\n",
    "          45, 89, 87, 40, 89, 39, 95, 25, 70, 27,\n",
    "          94, 94, 0, 78, 74, 69, 94, 18, 80, 86]\n",
    "\n",
    "scores_series = pd.Series(scores)\n",
    "\n",
    "bins = [0, 40, 70, 100]\n",
    "labels = ['0-39', '40-69', '70-100']\n",
    "mean_scores = [20, 55, 85]\n",
    "\n",
    "scores_series_binned = pd.cut(scores_series, bins=bins, labels=labels, right=False)\n",
    "\n",
    "counts = scores_series_binned.value_counts(sort=False)\n",
    "\n",
    "weighted_mean = (mean_scores * counts).sum() / counts.sum()\n",
    "\n",
    "\n",
    "plt.hist(scores_series, bins=bins, edgecolor='black')\n",
    "plt.xlabel('Intervalos de notas')\n",
    "plt.ylabel('Frequência')\n",
    "plt.title('Histograma de Notas de estudantes em intervalos de classe')\n",
    "plt.xticks(bins)\n",
    "plt.show()\n",
    "\n",
    "\n",
    "print(f\"Média ponderada das notas dos alunos: {weighted_mean:.4f}\")\n"
   ]
  },
  {
   "cell_type": "markdown",
   "metadata": {},
   "source": [
    "Responda:\n",
    "\n",
    "1- Organize os dados como achar melhor. \n",
    "\n",
    "Organizamos os dados em um Histograma utilizando os dados separados por classes\n",
    "\n",
    "2- Represente os dados graficamente.\n",
    "\n",
    "3- É possível outras estratégias para trabalhar com um número tão significativo de dados?\n",
    "\n",
    "Sim, normalização dos dados, limpeza, amostragem de dados, etc.\n",
    "\n",
    "4- Determine a média dos dados.\n",
    "\n",
    "a média ponderada se baseando nas classes é 64.48\n",
    "\n",
    "5- Existe outra forma de determinar a média?\n",
    "\n",
    "Pode-se considerar a média individual, além da separação por classes, mas os resultados podem ser diferentes\n",
    "\n",
    "6- Há uma concentração dos dados? Porque?\n",
    "\n",
    "Há uma concentração de notas mais altas, acima de 70"
   ]
  }
 ],
 "metadata": {
  "kernelspec": {
   "display_name": ".venv",
   "language": "python",
   "name": "python3"
  },
  "language_info": {
   "codemirror_mode": {
    "name": "ipython",
    "version": 3
   },
   "file_extension": ".py",
   "mimetype": "text/x-python",
   "name": "python",
   "nbconvert_exporter": "python",
   "pygments_lexer": "ipython3",
   "version": "3.12.7"
  }
 },
 "nbformat": 4,
 "nbformat_minor": 2
}
